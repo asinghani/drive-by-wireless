{
 "cells": [
  {
   "cell_type": "code",
   "execution_count": 68,
   "id": "8de82136",
   "metadata": {},
   "outputs": [],
   "source": [
    "\"\"\"\n",
    "Computing RT scheduling statistics using Saleae Logic Analyzer\n",
    "\n",
    "Channels:\n",
    "[0]  cockpit usb in\n",
    "[1]  cockpit usb out\n",
    "[2]  cockpit uwb rx\n",
    "[3]  cockpit uwb tx\n",
    "[4]  drivetrain uwb rx\n",
    "[5]  drivetrain uwb tx\n",
    "[6]  drivetrain motor out\n",
    "[7]  drivetrain brake\n",
    "[8]  drivetrain blink L\n",
    "[9]  drivetrain blink R\n",
    "[10] steering uwb rx\n",
    "[11] steering uwb tx\n",
    "[12] steering servo out\n",
    "[13] steering force in\n",
    "[14] steering blink L\n",
    "[15] steering blink R\n",
    "\"\"\"\n",
    "import numpy as np\n",
    "\n",
    "with open(\"digital.csv\", \"r\") as f:\n",
    "    dat = f.readlines()[1:]\n",
    "    \n",
    "dat = [x.strip().split(\",\") for x in dat]\n",
    "dat = [(float(x[0]), [int(a) for a in x[1:]]) for x in dat]"
   ]
  },
  {
   "cell_type": "code",
   "execution_count": 72,
   "id": "f6e0f111",
   "metadata": {},
   "outputs": [],
   "source": [
    "def edge_detect(arr):\n",
    "    arr1 = []\n",
    "    last = arr[0][1]\n",
    "    for a, b in arr[1:]:\n",
    "        x1 = [e-last[i] for i, e in enumerate(b)]\n",
    "        arr1 += [(a, x1)]\n",
    "        last = b\n",
    "        \n",
    "    return arr1\n",
    "\n",
    "def stats(arr):\n",
    "    p0 = round(np.percentile(arr, 0)*1000, 3)\n",
    "    p1 = round(np.percentile(arr, 25)*1000, 3)\n",
    "    p2 = round(np.percentile(arr, 50)*1000, 3)\n",
    "    p3 = round(np.percentile(arr, 75)*1000, 3)\n",
    "    p4 = round(np.percentile(arr, 100)*1000, 3)\n",
    "    \n",
    "    return f\"{p0} {p1} {p2} {p3} {p4}\"\n",
    "\n",
    "def check_timesync(dat_edges, n1, n2):\n",
    "    w = None\n",
    "    arr = []\n",
    "\n",
    "    for ts, v in dat_edges:\n",
    "        v1, v2 = v[n1], v[n2]\n",
    "\n",
    "        if (v1 != 0 or v2 != 0):\n",
    "            if w is None:\n",
    "                w = ts\n",
    "            else:\n",
    "                arr.append(ts - w)\n",
    "                w = None\n",
    "\n",
    "    return arr\n",
    "\n",
    "def find_paths(dat_edges, ns):\n",
    "    n0 = ns[0]\n",
    "    ns = ns[1:]\n",
    "    \n",
    "    i = 0\n",
    "    arr = []\n",
    "    \n",
    "    for i, tt in enumerate(dat_edges):\n",
    "        start, v = tt\n",
    "        end = None\n",
    "        if v[n0] == 1: \n",
    "            for n in ns:\n",
    "                while dat_edges[i][1][n] != 1:\n",
    "                    i += 1\n",
    "                    if i >= len(dat_edges): break\n",
    "                if i >= len(dat_edges): break\n",
    "                    \n",
    "            if i >= len(dat_edges): break\n",
    "            end = dat_edges[i][0]\n",
    "            arr.append(end-start)\n",
    "        \n",
    "    return arr"
   ]
  },
  {
   "cell_type": "code",
   "execution_count": 73,
   "id": "960c215e",
   "metadata": {},
   "outputs": [],
   "source": [
    "dat_edges = edge_detect(dat)"
   ]
  },
  {
   "cell_type": "code",
   "execution_count": 74,
   "id": "4d555888",
   "metadata": {},
   "outputs": [
    {
     "data": {
      "text/plain": [
       "'0.008 0.319 0.469 0.659 1.487'"
      ]
     },
     "execution_count": 74,
     "metadata": {},
     "output_type": "execute_result"
    }
   ],
   "source": [
    "# blinker sync\n",
    "stats(check_timesync(dat_edges, 8, 14) +\n",
    "      check_timesync(dat_edges, 9, 15))"
   ]
  },
  {
   "cell_type": "code",
   "execution_count": 75,
   "id": "0e9f2254",
   "metadata": {},
   "outputs": [
    {
     "data": {
      "text/plain": [
       "'2.234 3.675 8.338 8.399 13.584'"
      ]
     },
     "execution_count": 75,
     "metadata": {},
     "output_type": "execute_result"
    }
   ],
   "source": [
    "# cockpit -> drivetrain motor\n",
    "stats(find_paths(dat_edges, [0, 3, 4, 6]))"
   ]
  },
  {
   "cell_type": "code",
   "execution_count": 76,
   "id": "7558aec7",
   "metadata": {},
   "outputs": [
    {
     "data": {
      "text/plain": [
       "'1.183 11.422 11.5 11.576 12.884'"
      ]
     },
     "execution_count": 76,
     "metadata": {},
     "output_type": "execute_result"
    }
   ],
   "source": [
    "# cockpit -> steering servo\n",
    "stats(find_paths(dat_edges, [0, 3, 10, 12]))"
   ]
  },
  {
   "cell_type": "code",
   "execution_count": 77,
   "id": "846f374c",
   "metadata": {},
   "outputs": [
    {
     "data": {
      "text/plain": [
       "'7.054 8.372 8.472 8.551 18.833'"
      ]
     },
     "execution_count": 77,
     "metadata": {},
     "output_type": "execute_result"
    }
   ],
   "source": [
    "# steering force -> cockpit\n",
    "stats(find_paths(dat_edges, [13, 11, 2, 1]))"
   ]
  },
  {
   "cell_type": "code",
   "execution_count": null,
   "id": "02099a6a",
   "metadata": {},
   "outputs": [],
   "source": []
  },
  {
   "cell_type": "code",
   "execution_count": null,
   "id": "e3ad2754",
   "metadata": {},
   "outputs": [],
   "source": []
  },
  {
   "cell_type": "code",
   "execution_count": null,
   "id": "0f3bc8ee",
   "metadata": {},
   "outputs": [],
   "source": []
  },
  {
   "cell_type": "code",
   "execution_count": null,
   "id": "800d9d56",
   "metadata": {},
   "outputs": [],
   "source": []
  }
 ],
 "metadata": {
  "kernelspec": {
   "display_name": "Python 3 (ipykernel)",
   "language": "python",
   "name": "python3"
  },
  "language_info": {
   "codemirror_mode": {
    "name": "ipython",
    "version": 3
   },
   "file_extension": ".py",
   "mimetype": "text/x-python",
   "name": "python",
   "nbconvert_exporter": "python",
   "pygments_lexer": "ipython3",
   "version": "3.10.4"
  }
 },
 "nbformat": 4,
 "nbformat_minor": 5
}
